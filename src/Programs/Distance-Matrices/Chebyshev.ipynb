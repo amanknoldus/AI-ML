{
 "cells": [
  {
   "cell_type": "code",
   "execution_count": 3,
   "id": "a9f5725f-c9be-4830-befc-b5eaeab49e2e",
   "metadata": {},
   "outputs": [
    {
     "name": "stdout",
     "output_type": "stream",
     "text": [
      "[2]\n",
      "[2, 1]\n",
      "[2, 1, 3]\n",
      "[2, 1, 3, 0]\n",
      "Chebyshev Distance: 3\n"
     ]
    }
   ],
   "source": [
    "def chebyshev(setA,setB):\n",
    "    distance=[]\n",
    "    for indexA,indexB in zip(setA,setB):\n",
    "        distance.append(abs(indexA-indexB))\n",
    "        print(distance)\n",
    "    return max(distance)\n",
    "print(\"Chebyshev Distance:\",chebyshev([1,3,4,1],[3,2,1,1]))"
   ]
  },
  {
   "cell_type": "code",
   "execution_count": null,
   "id": "88f08894-ccbd-4922-80e4-10dd1fe5b97f",
   "metadata": {},
   "outputs": [],
   "source": []
  }
 ],
 "metadata": {
  "kernelspec": {
   "display_name": "Python 3 (ipykernel)",
   "language": "python",
   "name": "python3"
  },
  "language_info": {
   "codemirror_mode": {
    "name": "ipython",
    "version": 3
   },
   "file_extension": ".py",
   "mimetype": "text/x-python",
   "name": "python",
   "nbconvert_exporter": "python",
   "pygments_lexer": "ipython3",
   "version": "3.8.10"
  }
 },
 "nbformat": 4,
 "nbformat_minor": 5
}
