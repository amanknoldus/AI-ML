{
 "cells": [
  {
   "cell_type": "code",
   "execution_count": 3,
   "id": "357255c1-448a-4d43-a9a1-98dbe559dc0b",
   "metadata": {
    "tags": []
   },
   "outputs": [
    {
     "name": "stdout",
     "output_type": "stream",
     "text": [
      "Cosine Similarity:  0.8787878787878788\n"
     ]
    }
   ],
   "source": [
    "import math\n",
    "def cosineSimilarity(setA,setB):\n",
    "    numerator=0\n",
    "    sumofA = 0\n",
    "    sumofB = 0\n",
    "    for indexA,indexB in zip(setA,setB):\n",
    "        numerator += sum([indexA * indexB])\n",
    "        sumofA += sum([indexA**2])\n",
    "        sumofB += sum([indexB**2])\n",
    "    denominator = round(math.sqrt(sumofA) * math.sqrt(sumofB))\n",
    "    return numerator/denominator\n",
    "print(\"Cosine Similarity: \",cosineSimilarity([1,3,4,5],[2,4,1,8]))"
   ]
  },
  {
   "cell_type": "code",
   "execution_count": null,
   "id": "e586ef01-d1dd-4e59-9a1d-f3621227c46b",
   "metadata": {},
   "outputs": [],
   "source": []
  }
 ],
 "metadata": {
  "kernelspec": {
   "display_name": "Python 3 (ipykernel)",
   "language": "python",
   "name": "python3"
  },
  "language_info": {
   "codemirror_mode": {
    "name": "ipython",
    "version": 3
   },
   "file_extension": ".py",
   "mimetype": "text/x-python",
   "name": "python",
   "nbconvert_exporter": "python",
   "pygments_lexer": "ipython3",
   "version": "3.8.10"
  }
 },
 "nbformat": 4,
 "nbformat_minor": 5
}
