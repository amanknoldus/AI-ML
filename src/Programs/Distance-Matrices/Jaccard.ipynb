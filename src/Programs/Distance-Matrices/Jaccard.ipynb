{
 "cells": [
  {
   "cell_type": "code",
   "execution_count": 13,
   "id": "20fdf82f-b607-4380-859a-4471c50e27f9",
   "metadata": {
    "tags": []
   },
   "outputs": [
    {
     "name": "stdout",
     "output_type": "stream",
     "text": [
      "Jaccard Similarity:  0.42857142857142855\n",
      "Jaccard Distance:  0.5714285714285714\n"
     ]
    }
   ],
   "source": [
    "def jaccardSimilarity(setA,setB):\n",
    "    intersection = len(set(setA).intersection(set(setB)))\n",
    "    union = len(set(setA).union(set(setB)))\n",
    "    similarity = intersection/union\n",
    "    return similarity\n",
    "calculatedSimilarity = jaccardSimilarity([2,5,4,8,6],[4,6,7,1,2])\n",
    "print(\"Jaccard Similarity: \",calculatedSimilarity)\n",
    "print(\"Jaccard Distance: \",1-calculatedSimilarity)"
   ]
  },
  {
   "cell_type": "code",
   "execution_count": null,
   "id": "96ecd827-d39b-4b07-892b-66b5fa996887",
   "metadata": {},
   "outputs": [],
   "source": []
  }
 ],
 "metadata": {
  "kernelspec": {
   "display_name": "Python 3 (ipykernel)",
   "language": "python",
   "name": "python3"
  },
  "language_info": {
   "codemirror_mode": {
    "name": "ipython",
    "version": 3
   },
   "file_extension": ".py",
   "mimetype": "text/x-python",
   "name": "python",
   "nbconvert_exporter": "python",
   "pygments_lexer": "ipython3",
   "version": "3.8.10"
  }
 },
 "nbformat": 4,
 "nbformat_minor": 5
}
