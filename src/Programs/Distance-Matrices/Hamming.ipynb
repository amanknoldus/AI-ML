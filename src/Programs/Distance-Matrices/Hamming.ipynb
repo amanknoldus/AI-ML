{
 "cells": [
  {
   "cell_type": "code",
   "execution_count": 4,
   "id": "2a3c4d72-6abf-47bf-87dd-88f826642460",
   "metadata": {
    "tags": []
   },
   "outputs": [
    {
     "name": "stdout",
     "output_type": "stream",
     "text": [
      "Hamming Distance: 5\n"
     ]
    }
   ],
   "source": [
    "def hamming(setA,setB):\n",
    "    distance = 0\n",
    "    for indexofA,indexofB in zip(setA,setB):\n",
    "        if indexofA != indexofB:\n",
    "            distance += 1\n",
    "    return distance\n",
    "print(\"Hamming Distance:\",hamming(\"Aman Srivastava\",\"Aman Yadev\"))"
   ]
  },
  {
   "cell_type": "code",
   "execution_count": null,
   "id": "2bcfcadd-6dde-4e33-8c89-f583994bce9a",
   "metadata": {},
   "outputs": [],
   "source": []
  }
 ],
 "metadata": {
  "kernelspec": {
   "display_name": "Python 3 (ipykernel)",
   "language": "python",
   "name": "python3"
  },
  "language_info": {
   "codemirror_mode": {
    "name": "ipython",
    "version": 3
   },
   "file_extension": ".py",
   "mimetype": "text/x-python",
   "name": "python",
   "nbconvert_exporter": "python",
   "pygments_lexer": "ipython3",
   "version": "3.8.10"
  }
 },
 "nbformat": 4,
 "nbformat_minor": 5
}
