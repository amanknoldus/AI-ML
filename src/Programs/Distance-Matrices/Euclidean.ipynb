{
 "cells": [
  {
   "cell_type": "code",
   "execution_count": 15,
   "metadata": {},
   "outputs": [
    {
     "name": "stdout",
     "output_type": "stream",
     "text": [
      "Euclidean Distance:  4.69041575982343\n"
     ]
    }
   ],
   "source": [
    "import math\n",
    "\n",
    "def euclidean(dataSetA,dataSetB):\n",
    "        distance = 0\n",
    "        for a, b in zip (dataSetA, dataSetB):\n",
    "            distance += (sum([(pow((a-b),2))]))\n",
    "        return math.sqrt(distance)\n",
    "print(\"Euclidean Distance: \", euclidean([5,8,9],[7,5,6]))"
   ]
  },
  {
   "cell_type": "code",
   "execution_count": null,
   "metadata": {},
   "outputs": [],
   "source": []
  }
 ],
 "metadata": {
  "kernelspec": {
   "display_name": "Python 3 (ipykernel)",
   "language": "python",
   "name": "python3"
  },
  "language_info": {
   "codemirror_mode": {
    "name": "ipython",
    "version": 3
   },
   "file_extension": ".py",
   "mimetype": "text/x-python",
   "name": "python",
   "nbconvert_exporter": "python",
   "pygments_lexer": "ipython3",
   "version": "3.8.10"
  }
 },
 "nbformat": 4,
 "nbformat_minor": 4
}
