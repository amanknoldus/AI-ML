{
 "cells": [
  {
   "cell_type": "code",
   "execution_count": 69,
   "id": "1162e2ad",
   "metadata": {},
   "outputs": [
    {
     "name": "stdout",
     "output_type": "stream",
     "text": [
      "Enter number of data values: 6\n",
      "Now Enter Values: \n",
      "2\n",
      "3\n",
      "5\n",
      "4\n",
      "1\n",
      "3\n",
      "Mean for Given Data is:  3.0\n",
      "Median for Given Data is:  3.0\n",
      "Mode for Given Data is:  3\n"
     ]
    }
   ],
   "source": [
    "def centralTendency(givenData):#calling function for calculating central tendency.\n",
    "    print(\"Mean for Given Data is: \",calculateMean(givenData))\n",
    "    print(\"Median for Given Data is: \",calculateMedian(givenData))\n",
    "    print(\"Mode for Given Data is: \",calculateMode(givenData))\n",
    "\n",
    "\n",
    "def calculateMean(dataforMean):#calculating mean of data provided\n",
    "    meanofDataSet = 0\n",
    "    for item_in_DataSet in dataforMean:\n",
    "        meanofDataSet += item_in_DataSet\n",
    "    return meanofDataSet/len(dataforMean)\n",
    "\n",
    "def calculateMedian(dataforMedian):#calculating median of data provided.\n",
    "    \n",
    "    dataforMedian.sort()\n",
    "    lengthofDataSet = len(dataforMedian)\n",
    "    \n",
    "    if lengthofDataSet % 2 == 0:\n",
    "        middleleft = len(dataforMedian)//2-1\n",
    "        middleRight = len(dataforMedian)//2\n",
    "        medianValue = (dataforMedian[middleleft] + dataforMedian[middleRight])/2\n",
    "        \n",
    "    else:\n",
    "        midValue = len(dataforMedian)//2\n",
    "        medianValue = dataforMedian[midValue]\n",
    "        \n",
    "    return medianValue\n",
    "\n",
    "def calculateMode(dataforMode):#calculating mode of data provided.\n",
    "    countOfElements = {}\n",
    "    \n",
    "    for num_of_Item in dataforMode:\n",
    "        if num_of_Item in countOfElements:\n",
    "            countOfElements[num_of_Item] += 1\n",
    "        else:\n",
    "            countOfElements[num_of_Item] = 1\n",
    "            \n",
    "    maxCountElement = 0\n",
    "    modeofData = None\n",
    "    \n",
    "    for itemValue, occurence in countOfElements.items():\n",
    "        if occurence > maxCountElement:\n",
    "            maxCountElement = occurence\n",
    "            modeofData = itemValue\n",
    "    \n",
    "    return modeofData\n",
    "\n",
    "#main function taking inputs from user\n",
    "dataSet = []\n",
    "dataRange = int(input(\"Enter number of data values: \"))\n",
    "\n",
    "print(\"Now Enter Values: \")\n",
    "\n",
    "for no_of_Items in range(0,dataRange):\n",
    "    itemNumber = int(input())\n",
    "    dataSet.append(itemNumber)\n",
    "    \n",
    "centralTendency(dataSet)"
   ]
  },
  {
   "cell_type": "code",
   "execution_count": null,
   "id": "a06498e9",
   "metadata": {},
   "outputs": [],
   "source": []
  }
 ],
 "metadata": {
  "kernelspec": {
   "display_name": "Python 3 (ipykernel)",
   "language": "python",
   "name": "python3"
  },
  "language_info": {
   "codemirror_mode": {
    "name": "ipython",
    "version": 3
   },
   "file_extension": ".py",
   "mimetype": "text/x-python",
   "name": "python",
   "nbconvert_exporter": "python",
   "pygments_lexer": "ipython3",
   "version": "3.10.6"
  }
 },
 "nbformat": 4,
 "nbformat_minor": 5
}
