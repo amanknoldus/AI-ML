{
 "cells": [
  {
   "cell_type": "code",
   "execution_count": 30,
   "id": "f9b6634d",
   "metadata": {},
   "outputs": [
    {
     "data": {
      "text/plain": [
       "{'Aman', 'Sanskriti'}"
      ]
     },
     "execution_count": 30,
     "metadata": {},
     "output_type": "execute_result"
    }
   ],
   "source": [
    "setA = {\"Aman\", \"Sanskriti\", \"Pranav\", \"Tanishka\"}\n",
    "setB = {\"Aman\", \"Sanskriti\"}\n",
    "setA & setB #intersection operation"
   ]
  },
  {
   "cell_type": "code",
   "execution_count": 32,
   "id": "5739f3b3",
   "metadata": {},
   "outputs": [
    {
     "data": {
      "text/plain": [
       "{'Aditya', 'Aman', 'Pranav', 'Sanskriti', 'Shivam', 'Tanishka'}"
      ]
     },
     "execution_count": 32,
     "metadata": {},
     "output_type": "execute_result"
    }
   ],
   "source": [
    "setA = {\"Aman\", \"Sanskriti\", \"Pranav\", \"Tanishka\"}\n",
    "setB = {\"Aditya\", \"Shivam\"}\n",
    "setA.union(setB) #union operation"
   ]
  },
  {
   "cell_type": "code",
   "execution_count": 40,
   "id": "89518860",
   "metadata": {},
   "outputs": [
    {
     "data": {
      "text/plain": [
       "dict_keys(['Aman', 'Aditya', 'Sans'])"
      ]
     },
     "execution_count": 40,
     "metadata": {},
     "output_type": "execute_result"
    }
   ],
   "source": [
    "dictSet = {\"Aman\":25,\"Aditya\":18,\"Sans\":22}\n",
    "dictSet.keys() #getting all keys of dictionary"
   ]
  },
  {
   "cell_type": "code",
   "execution_count": 39,
   "id": "911b5a8e",
   "metadata": {},
   "outputs": [
    {
     "data": {
      "text/plain": [
       "dict_values([25, 18, 22])"
      ]
     },
     "execution_count": 39,
     "metadata": {},
     "output_type": "execute_result"
    }
   ],
   "source": [
    "dictSet = {\"Aman\":25,\"Aditya\":18,\"Sans\":22}\n",
    "dictSet.values() #getting all values of dictionary"
   ]
  },
  {
   "cell_type": "code",
   "execution_count": 42,
   "id": "baccf9d6",
   "metadata": {},
   "outputs": [
    {
     "data": {
      "text/plain": [
       "'a'"
      ]
     },
     "execution_count": 42,
     "metadata": {},
     "output_type": "execute_result"
    }
   ],
   "source": [
    "A = ('a','b','c')\n",
    "A[0]"
   ]
  },
  {
   "cell_type": "code",
   "execution_count": 43,
   "id": "977368a2",
   "metadata": {},
   "outputs": [
    {
     "data": {
      "text/plain": [
       "(4, 4, 4)"
      ]
     },
     "execution_count": 43,
     "metadata": {},
     "output_type": "execute_result"
    }
   ],
   "source": [
    "Dict={\"A\":1,\"B\":\"2\",\"C\":[3,3,3],\"D\":(4,4,4),'E':5,'F':6}\n",
    "Dict[\"D\"]"
   ]
  },
  {
   "cell_type": "code",
   "execution_count": 52,
   "id": "569bf0c1",
   "metadata": {},
   "outputs": [
    {
     "name": "stdout",
     "output_type": "stream",
     "text": [
      "5\n",
      "2\n",
      "8\n"
     ]
    }
   ],
   "source": [
    "arr = [\"5\", \"2\", \"8\", \"9\", \"52\"]\n",
    "for i in range(0,3):\n",
    "    print(arr[i])"
   ]
  },
  {
   "cell_type": "code",
   "execution_count": 59,
   "id": "cf94d83d",
   "metadata": {},
   "outputs": [
    {
     "name": "stdout",
     "output_type": "stream",
     "text": [
      "5\n",
      "2\n",
      "8\n",
      "9\n",
      "52\n"
     ]
    }
   ],
   "source": [
    "dataSet = [\"5\", \"2\", \"8\", \"9\", \"52\"]\n",
    "for i in dataSet:\n",
    "    print(i)"
   ]
  },
  {
   "cell_type": "code",
   "execution_count": 65,
   "id": "e62c9d9b",
   "metadata": {},
   "outputs": [
    {
     "name": "stdout",
     "output_type": "stream",
     "text": [
      "0\n",
      "Red\n",
      "1\n",
      "Yellow\n",
      "2\n",
      "Purple\n",
      "3\n",
      "Orange\n"
     ]
    }
   ],
   "source": [
    "dataSet = [\"Red\", \"Yellow\", \"Purple\", \"Orange\"]\n",
    "for i,color in enumerate(dataSet):\n",
    "    print(i)\n",
    "    print(color)"
   ]
  },
  {
   "cell_type": "code",
   "execution_count": 84,
   "id": "c29d8f21",
   "metadata": {},
   "outputs": [
    {
     "data": {
      "text/plain": [
       "['Red', 'Yellow', 'Purple']"
      ]
     },
     "execution_count": 84,
     "metadata": {},
     "output_type": "execute_result"
    }
   ],
   "source": [
    "dataSet = [\"Red\", \"Yellow\", \"Purple\", \"Orange\"]\n",
    "newData = []\n",
    "itemNum = 0\n",
    "while(dataSet[itemNum]!=\"Orange\"):\n",
    "    newData.append(dataSet[itemNum])\n",
    "    itemNum += 1\n",
    "newData"
   ]
  },
  {
   "cell_type": "code",
   "execution_count": 85,
   "id": "3ec59d40",
   "metadata": {},
   "outputs": [
    {
     "name": "stdout",
     "output_type": "stream",
     "text": [
      "3\n",
      "4\n",
      "5\n"
     ]
    }
   ],
   "source": [
    "A=[3,4,5]\n",
    "for a in A:\n",
    "    print(a)"
   ]
  },
  {
   "cell_type": "code",
   "execution_count": 87,
   "id": "5e01906d",
   "metadata": {},
   "outputs": [
    {
     "name": "stdout",
     "output_type": "stream",
     "text": [
      "1\n",
      "2\n"
     ]
    }
   ],
   "source": [
    "x=3\n",
    "y=1\n",
    "while(y!=x):\n",
    "    print(y)\n",
    "    y=y+1"
   ]
  },
  {
   "cell_type": "code",
   "execution_count": 90,
   "id": "4cd321f9",
   "metadata": {},
   "outputs": [
    {
     "name": "stdout",
     "output_type": "stream",
     "text": [
      "11\n"
     ]
    }
   ],
   "source": [
    "a=1\n",
    "def add(b):\n",
    "    return a+b\n",
    "c=add(10)\n",
    "print(c)"
   ]
  },
  {
   "cell_type": "code",
   "execution_count": 93,
   "id": "db6a8da3",
   "metadata": {},
   "outputs": [
    {
     "name": "stdout",
     "output_type": "stream",
     "text": [
      "Aman\n",
      "Aditya\n",
      "Dog\n",
      "6565\n"
     ]
    }
   ],
   "source": [
    "def fun(*name):\n",
    "    for name in name:\n",
    "        print(name)\n",
    "        \n",
    "fun(\"Aman\",\"Aditya\",\"Dog\",6565)"
   ]
  },
  {
   "cell_type": "code",
   "execution_count": 94,
   "id": "f1925636",
   "metadata": {},
   "outputs": [
    {
     "name": "stdout",
     "output_type": "stream",
     "text": [
      "143\n"
     ]
    }
   ],
   "source": [
    "def f(*x):\n",
    "    return sum(x)\n",
    "print(f(55, 22, 66))"
   ]
  },
  {
   "cell_type": "code",
   "execution_count": 136,
   "id": "62052566",
   "metadata": {},
   "outputs": [
    {
     "name": "stdout",
     "output_type": "stream",
     "text": [
      "Car Model is:  Honda\n",
      "Car Brand is:  Accord\n",
      "Car Color is:  blue\n",
      "Owner Details:  2\n"
     ]
    }
   ],
   "source": [
    "class Car(object):\n",
    "    def __init__(self,make,model,color,owner_number=1):\n",
    "        self.make = make\n",
    "        self.model = model\n",
    "        self.color = color\n",
    "        self.owner_number = owner_number\n",
    "    \n",
    "    def carDetails(self):\n",
    "        print(\"Car Model is: \", self.make)\n",
    "        print(\"Car Brand is: \", self.model)\n",
    "        print(\"Car Color is: \", self.color)\n",
    "        print(\"Owner Details: \", self.owner_number)\n",
    "    \n",
    "    def sell(self):#increasing owner number if car is sold\n",
    "        self.owner_number=self.owner_number+1\n",
    "        \n",
    "carFeature = Car(make=\"Honda\",model=\"Accord\",color=\"blue\")#creating instance for Car Class & Setting Values\n",
    "\n",
    "carFeature.carDetails()\n",
    "carFeature.sell()"
   ]
  },
  {
   "cell_type": "code",
   "execution_count": 4,
   "id": "6de817c4",
   "metadata": {},
   "outputs": [
    {
     "data": {
      "text/plain": [
       "<_io.TextIOWrapper name='/home/knoldus/taskDone.txt' mode='r' encoding='UTF-8'>"
      ]
     },
     "execution_count": 4,
     "metadata": {},
     "output_type": "execute_result"
    }
   ],
   "source": [
    "openFile = open(\"/home/knoldus/taskDone.txt\",\"r\")\n",
    "openFile"
   ]
  },
  {
   "cell_type": "code",
   "execution_count": 17,
   "id": "baa96e82",
   "metadata": {},
   "outputs": [
    {
     "name": "stdout",
     "output_type": "stream",
     "text": [
      "MY\n",
      "True\n",
      "MY\n"
     ]
    }
   ],
   "source": [
    "with open(\"/home/knoldus/Desktop/mysql sheer\",\"r\") as FileA:\n",
    "    fileData=FileA.read()#storing the values of FileA into fileData\n",
    "    print(fileData)\n",
    "print(FileA.closed)#closing the original file\n",
    "print(fileData)"
   ]
  },
  {
   "cell_type": "code",
   "execution_count": 22,
   "id": "e3a93e18",
   "metadata": {},
   "outputs": [],
   "source": [
    "with open(\"/home/knoldus/Desktop/WrittenFile.txt\",\"w\") as FileA:\n",
    "    fileData=FileA.write(\"This is written File\\nThis is another Line\")#writing the new values into a file"
   ]
  },
  {
   "cell_type": "code",
   "execution_count": 25,
   "id": "0183be2f",
   "metadata": {},
   "outputs": [],
   "source": [
    "with open(\"/home/knoldus/Desktop/mysql sheer\",\"r\") as readFileFirst:\n",
    "    with open(\"/home/knoldus/Desktop/NewFile.txt\",\"w\") as NewFile:\n",
    "        for data in readFileFirst:#writing content of one file to another new file\n",
    "            NewFile.write(data)"
   ]
  },
  {
   "cell_type": "code",
   "execution_count": null,
   "id": "35daa5b1",
   "metadata": {},
   "outputs": [],
   "source": []
  }
 ],
 "metadata": {
  "kernelspec": {
   "display_name": "Python 3 (ipykernel)",
   "language": "python",
   "name": "python3"
  },
  "language_info": {
   "codemirror_mode": {
    "name": "ipython",
    "version": 3
   },
   "file_extension": ".py",
   "mimetype": "text/x-python",
   "name": "python",
   "nbconvert_exporter": "python",
   "pygments_lexer": "ipython3",
   "version": "3.10.6"
  }
 },
 "nbformat": 4,
 "nbformat_minor": 5
}
